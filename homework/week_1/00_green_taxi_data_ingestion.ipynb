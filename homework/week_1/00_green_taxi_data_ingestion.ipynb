{
 "cells": [
  {
   "cell_type": "markdown",
   "source": [
    "## Introduction\n",
    "In this notebook, we will read the trip data for NY Green Taxi for the month of September 2019, add the data to a SQLite database, and then query the database to answer some questions.\n",
    "\n",
    "First, we will import the necessary libraries."
   ],
   "metadata": {
    "collapsed": false
   },
   "id": "8676f4deee2bdd7c"
  },
  {
   "cell_type": "code",
   "outputs": [],
   "source": [
    "from datetime import datetime\n",
    "\n",
    "import pandas as pd\n",
    "import sqlite3"
   ],
   "metadata": {
    "collapsed": false,
    "ExecuteTime": {
     "end_time": "2024-01-29T19:07:29.377792Z",
     "start_time": "2024-01-29T19:07:29.353771Z"
    }
   },
   "id": "99a18a387647d7e4",
   "execution_count": 15
  },
  {
   "cell_type": "markdown",
   "source": [
    "Now, we specify the SQLite database to which the data will be written."
   ],
   "metadata": {
    "collapsed": false
   },
   "id": "58dcfc35a43559d8"
  },
  {
   "cell_type": "code",
   "outputs": [],
   "source": [
    "db_loc: str = \"/Users/tejaskale/Code/data_engineering_zoomcamp/homework/week_1/data/green_taxi.sqlite\""
   ],
   "metadata": {
    "collapsed": false,
    "ExecuteTime": {
     "end_time": "2024-01-29T19:02:41.113145Z",
     "start_time": "2024-01-29T19:02:41.107221Z"
    }
   },
   "id": "16ab6b706067fe6e",
   "execution_count": 5
  },
  {
   "cell_type": "markdown",
   "source": [
    "Next, we read the trip data and add it to the SQLite database."
   ],
   "metadata": {
    "collapsed": false
   },
   "id": "35c252f01180a04b"
  },
  {
   "cell_type": "code",
   "outputs": [
    {
     "data": {
      "text/plain": "   VendorID lpep_pickup_datetime lpep_dropoff_datetime store_and_fwd_flag  \\\n0         2  2019-09-01 00:10:53   2019-09-01 00:23:46                  N   \n1         2  2019-09-01 00:31:22   2019-09-01 00:44:37                  N   \n2         2  2019-09-01 00:50:24   2019-09-01 01:03:20                  N   \n3         2  2019-09-01 00:27:06   2019-09-01 00:33:22                  N   \n4         2  2019-09-01 00:43:23   2019-09-01 00:59:54                  N   \n\n   RatecodeID  PULocationID  DOLocationID  passenger_count  trip_distance  \\\n0         1.0            65           189              5.0           2.00   \n1         1.0            97           225              5.0           3.20   \n2         1.0            37            61              5.0           2.99   \n3         1.0           145           112              1.0           1.73   \n4         1.0           112           198              1.0           3.42   \n\n   fare_amount  extra  mta_tax  tip_amount  tolls_amount ehail_fee  \\\n0         10.5    0.5      0.5        2.36           0.0      None   \n1         12.0    0.5      0.5        0.00           0.0      None   \n2         12.0    0.5      0.5        0.00           0.0      None   \n3          7.5    0.5      0.5        1.50           0.0      None   \n4         14.0    0.5      0.5        3.06           0.0      None   \n\n   improvement_surcharge  total_amount  payment_type  trip_type  \\\n0                    0.3         14.16           1.0        1.0   \n1                    0.3         13.30           2.0        1.0   \n2                    0.3         13.30           2.0        1.0   \n3                    0.3         10.30           1.0        1.0   \n4                    0.3         18.36           1.0        1.0   \n\n   congestion_surcharge  \n0                   0.0  \n1                   0.0  \n2                   0.0  \n3                   0.0  \n4                   0.0  ",
      "text/html": "<div>\n<style scoped>\n    .dataframe tbody tr th:only-of-type {\n        vertical-align: middle;\n    }\n\n    .dataframe tbody tr th {\n        vertical-align: top;\n    }\n\n    .dataframe thead th {\n        text-align: right;\n    }\n</style>\n<table border=\"1\" class=\"dataframe\">\n  <thead>\n    <tr style=\"text-align: right;\">\n      <th></th>\n      <th>VendorID</th>\n      <th>lpep_pickup_datetime</th>\n      <th>lpep_dropoff_datetime</th>\n      <th>store_and_fwd_flag</th>\n      <th>RatecodeID</th>\n      <th>PULocationID</th>\n      <th>DOLocationID</th>\n      <th>passenger_count</th>\n      <th>trip_distance</th>\n      <th>fare_amount</th>\n      <th>extra</th>\n      <th>mta_tax</th>\n      <th>tip_amount</th>\n      <th>tolls_amount</th>\n      <th>ehail_fee</th>\n      <th>improvement_surcharge</th>\n      <th>total_amount</th>\n      <th>payment_type</th>\n      <th>trip_type</th>\n      <th>congestion_surcharge</th>\n    </tr>\n  </thead>\n  <tbody>\n    <tr>\n      <th>0</th>\n      <td>2</td>\n      <td>2019-09-01 00:10:53</td>\n      <td>2019-09-01 00:23:46</td>\n      <td>N</td>\n      <td>1.0</td>\n      <td>65</td>\n      <td>189</td>\n      <td>5.0</td>\n      <td>2.00</td>\n      <td>10.5</td>\n      <td>0.5</td>\n      <td>0.5</td>\n      <td>2.36</td>\n      <td>0.0</td>\n      <td>None</td>\n      <td>0.3</td>\n      <td>14.16</td>\n      <td>1.0</td>\n      <td>1.0</td>\n      <td>0.0</td>\n    </tr>\n    <tr>\n      <th>1</th>\n      <td>2</td>\n      <td>2019-09-01 00:31:22</td>\n      <td>2019-09-01 00:44:37</td>\n      <td>N</td>\n      <td>1.0</td>\n      <td>97</td>\n      <td>225</td>\n      <td>5.0</td>\n      <td>3.20</td>\n      <td>12.0</td>\n      <td>0.5</td>\n      <td>0.5</td>\n      <td>0.00</td>\n      <td>0.0</td>\n      <td>None</td>\n      <td>0.3</td>\n      <td>13.30</td>\n      <td>2.0</td>\n      <td>1.0</td>\n      <td>0.0</td>\n    </tr>\n    <tr>\n      <th>2</th>\n      <td>2</td>\n      <td>2019-09-01 00:50:24</td>\n      <td>2019-09-01 01:03:20</td>\n      <td>N</td>\n      <td>1.0</td>\n      <td>37</td>\n      <td>61</td>\n      <td>5.0</td>\n      <td>2.99</td>\n      <td>12.0</td>\n      <td>0.5</td>\n      <td>0.5</td>\n      <td>0.00</td>\n      <td>0.0</td>\n      <td>None</td>\n      <td>0.3</td>\n      <td>13.30</td>\n      <td>2.0</td>\n      <td>1.0</td>\n      <td>0.0</td>\n    </tr>\n    <tr>\n      <th>3</th>\n      <td>2</td>\n      <td>2019-09-01 00:27:06</td>\n      <td>2019-09-01 00:33:22</td>\n      <td>N</td>\n      <td>1.0</td>\n      <td>145</td>\n      <td>112</td>\n      <td>1.0</td>\n      <td>1.73</td>\n      <td>7.5</td>\n      <td>0.5</td>\n      <td>0.5</td>\n      <td>1.50</td>\n      <td>0.0</td>\n      <td>None</td>\n      <td>0.3</td>\n      <td>10.30</td>\n      <td>1.0</td>\n      <td>1.0</td>\n      <td>0.0</td>\n    </tr>\n    <tr>\n      <th>4</th>\n      <td>2</td>\n      <td>2019-09-01 00:43:23</td>\n      <td>2019-09-01 00:59:54</td>\n      <td>N</td>\n      <td>1.0</td>\n      <td>112</td>\n      <td>198</td>\n      <td>1.0</td>\n      <td>3.42</td>\n      <td>14.0</td>\n      <td>0.5</td>\n      <td>0.5</td>\n      <td>3.06</td>\n      <td>0.0</td>\n      <td>None</td>\n      <td>0.3</td>\n      <td>18.36</td>\n      <td>1.0</td>\n      <td>1.0</td>\n      <td>0.0</td>\n    </tr>\n  </tbody>\n</table>\n</div>"
     },
     "execution_count": 6,
     "metadata": {},
     "output_type": "execute_result"
    }
   ],
   "source": [
    "green_taxi_trip_data: pd.DataFrame = pd.read_parquet(\"./data/green_tripdata_2019-09.parquet\")\n",
    "green_taxi_trip_data.head()"
   ],
   "metadata": {
    "collapsed": false,
    "ExecuteTime": {
     "end_time": "2024-01-29T19:03:34.455509Z",
     "start_time": "2024-01-29T19:03:34.101979Z"
    }
   },
   "id": "57809d1a71088c49",
   "execution_count": 6
  },
  {
   "cell_type": "code",
   "outputs": [],
   "source": [
    "db_conn = sqlite3.connect(db_loc)"
   ],
   "metadata": {
    "collapsed": false,
    "ExecuteTime": {
     "end_time": "2024-01-29T19:05:56.997068Z",
     "start_time": "2024-01-29T19:05:56.963417Z"
    }
   },
   "id": "6746ecad0cedf237",
   "execution_count": 10
  },
  {
   "cell_type": "code",
   "outputs": [
    {
     "data": {
      "text/plain": "449063"
     },
     "execution_count": 11,
     "metadata": {},
     "output_type": "execute_result"
    }
   ],
   "source": [
    "green_taxi_trip_data.to_sql(\"trip_data\", db_conn, if_exists=\"replace\")"
   ],
   "metadata": {
    "collapsed": false,
    "ExecuteTime": {
     "end_time": "2024-01-29T19:06:11.424075Z",
     "start_time": "2024-01-29T19:06:08.927056Z"
    }
   },
   "id": "dbab7b80942d0bc4",
   "execution_count": 11
  },
  {
   "cell_type": "markdown",
   "source": [
    "Now, we read the zone lookup data and add it to the SQLite database."
   ],
   "metadata": {
    "collapsed": false
   },
   "id": "382014a6df32769b"
  },
  {
   "cell_type": "code",
   "outputs": [
    {
     "data": {
      "text/plain": "   LocationID        Borough                     Zone service_zone\n0           1            EWR           Newark Airport          EWR\n1           2         Queens              Jamaica Bay    Boro Zone\n2           3          Bronx  Allerton/Pelham Gardens    Boro Zone\n3           4      Manhattan            Alphabet City  Yellow Zone\n4           5  Staten Island            Arden Heights    Boro Zone",
      "text/html": "<div>\n<style scoped>\n    .dataframe tbody tr th:only-of-type {\n        vertical-align: middle;\n    }\n\n    .dataframe tbody tr th {\n        vertical-align: top;\n    }\n\n    .dataframe thead th {\n        text-align: right;\n    }\n</style>\n<table border=\"1\" class=\"dataframe\">\n  <thead>\n    <tr style=\"text-align: right;\">\n      <th></th>\n      <th>LocationID</th>\n      <th>Borough</th>\n      <th>Zone</th>\n      <th>service_zone</th>\n    </tr>\n  </thead>\n  <tbody>\n    <tr>\n      <th>0</th>\n      <td>1</td>\n      <td>EWR</td>\n      <td>Newark Airport</td>\n      <td>EWR</td>\n    </tr>\n    <tr>\n      <th>1</th>\n      <td>2</td>\n      <td>Queens</td>\n      <td>Jamaica Bay</td>\n      <td>Boro Zone</td>\n    </tr>\n    <tr>\n      <th>2</th>\n      <td>3</td>\n      <td>Bronx</td>\n      <td>Allerton/Pelham Gardens</td>\n      <td>Boro Zone</td>\n    </tr>\n    <tr>\n      <th>3</th>\n      <td>4</td>\n      <td>Manhattan</td>\n      <td>Alphabet City</td>\n      <td>Yellow Zone</td>\n    </tr>\n    <tr>\n      <th>4</th>\n      <td>5</td>\n      <td>Staten Island</td>\n      <td>Arden Heights</td>\n      <td>Boro Zone</td>\n    </tr>\n  </tbody>\n</table>\n</div>"
     },
     "execution_count": 12,
     "metadata": {},
     "output_type": "execute_result"
    }
   ],
   "source": [
    "zone_lookup_data: pd.DataFrame = pd.read_csv(\"./data/taxi+_zone_lookup.csv\")\n",
    "zone_lookup_data.head()"
   ],
   "metadata": {
    "collapsed": false,
    "ExecuteTime": {
     "end_time": "2024-01-29T19:06:47.430903Z",
     "start_time": "2024-01-29T19:06:47.371107Z"
    }
   },
   "id": "ff44b2f9e958ca8c",
   "execution_count": 12
  },
  {
   "cell_type": "code",
   "outputs": [
    {
     "data": {
      "text/plain": "265"
     },
     "execution_count": 13,
     "metadata": {},
     "output_type": "execute_result"
    }
   ],
   "source": [
    "zone_lookup_data.to_sql(\"zone_lookup\", db_conn, if_exists=\"replace\")"
   ],
   "metadata": {
    "collapsed": false,
    "ExecuteTime": {
     "end_time": "2024-01-29T19:06:54.660562Z",
     "start_time": "2024-01-29T19:06:54.637844Z"
    }
   },
   "id": "6b8ca08744a829a4",
   "execution_count": 13
  },
  {
   "cell_type": "code",
   "outputs": [],
   "source": [
    "db_conn.close()"
   ],
   "metadata": {
    "collapsed": false,
    "ExecuteTime": {
     "end_time": "2024-01-29T19:06:58.125232Z",
     "start_time": "2024-01-29T19:06:58.112029Z"
    }
   },
   "id": "728b7050109070ba",
   "execution_count": 14
  }
 ],
 "metadata": {
  "kernelspec": {
   "display_name": "Python 3",
   "language": "python",
   "name": "python3"
  },
  "language_info": {
   "codemirror_mode": {
    "name": "ipython",
    "version": 2
   },
   "file_extension": ".py",
   "mimetype": "text/x-python",
   "name": "python",
   "nbconvert_exporter": "python",
   "pygments_lexer": "ipython2",
   "version": "2.7.6"
  }
 },
 "nbformat": 4,
 "nbformat_minor": 5
}
